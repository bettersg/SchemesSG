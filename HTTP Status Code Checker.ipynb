{
 "cells": [
  {
   "cell_type": "code",
   "execution_count": 70,
   "metadata": {},
   "outputs": [],
   "source": [
    "import pandas as pd\n",
    "import requests\n",
    "from time import sleep\n",
    "\n",
    "\n",
    "df = pd.read_csv('df.csv', encoding='mac_roman')\n",
    "\n",
    "def url_access(x):\n",
    "    try:\n",
    "        return requests.head(x).status_code\n",
    "    except requests.exceptions.ConnectionError:\n",
    "        return \"Connection refused\""
   ]
  },
  {
   "cell_type": "code",
   "execution_count": 71,
   "metadata": {},
   "outputs": [],
   "source": [
    "df['Status'] = df['Link'].apply(url_access)"
   ]
  },
  {
   "cell_type": "code",
   "execution_count": 72,
   "metadata": {},
   "outputs": [],
   "source": [
    "df_code = df[['Scheme', 'Agency', 'Link', 'Status']]"
   ]
  },
  {
   "cell_type": "code",
   "execution_count": 73,
   "metadata": {},
   "outputs": [],
   "source": [
    "pd.set_option('display.max_colwidth', None)"
   ]
  },
  {
   "cell_type": "code",
   "execution_count": 74,
   "metadata": {
    "scrolled": true
   },
   "outputs": [
    {
     "data": {
      "text/html": [
       "<div>\n",
       "<style scoped>\n",
       "    .dataframe tbody tr th:only-of-type {\n",
       "        vertical-align: middle;\n",
       "    }\n",
       "\n",
       "    .dataframe tbody tr th {\n",
       "        vertical-align: top;\n",
       "    }\n",
       "\n",
       "    .dataframe thead th {\n",
       "        text-align: right;\n",
       "    }\n",
       "</style>\n",
       "<table border=\"1\" class=\"dataframe\">\n",
       "  <thead>\n",
       "    <tr style=\"text-align: right;\">\n",
       "      <th></th>\n",
       "      <th>Scheme</th>\n",
       "      <th>Agency</th>\n",
       "      <th>Link</th>\n",
       "      <th>Status</th>\n",
       "    </tr>\n",
       "  </thead>\n",
       "  <tbody>\n",
       "    <tr>\n",
       "      <th>79</th>\n",
       "      <td>Mental Health Check</td>\n",
       "      <td>Community Health Assessment Team (CHAT)</td>\n",
       "      <td>https://www.chat.mentalhealth.sg/get-help/mental-health-check/</td>\n",
       "      <td>404</td>\n",
       "    </tr>\n",
       "    <tr>\n",
       "      <th>80</th>\n",
       "      <td>webCHAT</td>\n",
       "      <td>Community Health Assessment Team (CHAT)</td>\n",
       "      <td>https://www.chat.mentalhealth.sg/get-help/About_webCHAT/</td>\n",
       "      <td>404</td>\n",
       "    </tr>\n",
       "    <tr>\n",
       "      <th>135</th>\n",
       "      <td>Aged Psychiatry Community Assessment and Treatment Services (APCATS)</td>\n",
       "      <td>Institute of Mental Health</td>\n",
       "      <td>https://www.imh.com.sg/education/page.aspx?id=658</td>\n",
       "      <td>404</td>\n",
       "    </tr>\n",
       "  </tbody>\n",
       "</table>\n",
       "</div>"
      ],
      "text/plain": [
       "                                                                   Scheme  \\\n",
       "79                                                    Mental Health Check   \n",
       "80                                                                webCHAT   \n",
       "135  Aged Psychiatry Community Assessment and Treatment Services (APCATS)   \n",
       "\n",
       "                                      Agency  \\\n",
       "79   Community Health Assessment Team (CHAT)   \n",
       "80   Community Health Assessment Team (CHAT)   \n",
       "135               Institute of Mental Health   \n",
       "\n",
       "                                                               Link Status  \n",
       "79   https://www.chat.mentalhealth.sg/get-help/mental-health-check/    404  \n",
       "80         https://www.chat.mentalhealth.sg/get-help/About_webCHAT/    404  \n",
       "135               https://www.imh.com.sg/education/page.aspx?id=658    404  "
      ]
     },
     "execution_count": 74,
     "metadata": {},
     "output_type": "execute_result"
    }
   ],
   "source": [
    "df_code1 = df_code[df_code['Status'] == 404]\n",
    "df_code2 = df_code1[~df_code1['Link'].str[-4:].isin({'aspx'})]\n",
    "df_code2"
   ]
  },
  {
   "cell_type": "code",
   "execution_count": null,
   "metadata": {},
   "outputs": [],
   "source": []
  }
 ],
 "metadata": {
  "kernelspec": {
   "display_name": "Python 3",
   "language": "python",
   "name": "python3"
  },
  "language_info": {
   "codemirror_mode": {
    "name": "ipython",
    "version": 3
   },
   "file_extension": ".py",
   "mimetype": "text/x-python",
   "name": "python",
   "nbconvert_exporter": "python",
   "pygments_lexer": "ipython3",
   "version": "3.8.2"
  }
 },
 "nbformat": 4,
 "nbformat_minor": 4
}
