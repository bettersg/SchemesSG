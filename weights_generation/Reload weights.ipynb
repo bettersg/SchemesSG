{
 "cells": [
  {
   "cell_type": "code",
   "execution_count": 39,
   "metadata": {},
   "outputs": [],
   "source": [
    "#https://radimrehurek.com/gensim/auto_examples/core/run_topics_and_transformations.html\n",
    "\n",
    "import gensim\n",
    "import pandas as pd\n",
    "import numpy as np\n",
    "import spacy\n",
    "import operator\n",
    "import re\n",
    "import string\n",
    "import json\n",
    "import codecs\n",
    "\n",
    "df_schemes = pd.read_csv('../schemes2.csv', encoding='cp1252')#Needed to map the scheme names back to \n",
    "dictionary = gensim.corpora.Dictionary.load('dictionary') #Needed to construct mappings from BOW of the query term to the dictionary which is already preloaded\n",
    "\n",
    "schemes_tfidf_model = gensim.models.TfidfModel.load(\"tfidf.model\") #Needed to feed into the LSI model\n",
    "\n",
    "schemes_lsi_model = gensim.models.LsiModel.load(\"lsi.model\") #Final model\n",
    "schemes_lsi_corpus = gensim.corpora.MmCorpus('schemes_lsi_model_mm') #Needed to create the matrix similarity index"
   ]
  },
  {
   "cell_type": "code",
   "execution_count": 40,
   "metadata": {},
   "outputs": [
    {
     "name": "stdout",
     "output_type": "stream",
     "text": [
      "Wall time: 1.2 s\n"
     ]
    },
    {
     "ename": "TypeError",
     "evalue": "remove() takes exactly one argument (2 given)",
     "output_type": "error",
     "traceback": [
      "\u001b[1;31m---------------------------------------------------------------------------\u001b[0m",
      "\u001b[1;31mTypeError\u001b[0m                                 Traceback (most recent call last)",
      "\u001b[1;32m<ipython-input-40-b12be22e1604>\u001b[0m in \u001b[0;36m<module>\u001b[1;34m\u001b[0m\n\u001b[0;32m      4\u001b[0m \u001b[0mpunctuations\u001b[0m \u001b[1;33m=\u001b[0m \u001b[0mstring\u001b[0m\u001b[1;33m.\u001b[0m\u001b[0mpunctuation\u001b[0m\u001b[1;33m\u001b[0m\u001b[1;33m\u001b[0m\u001b[0m\n\u001b[0;32m      5\u001b[0m \u001b[0mstop_words\u001b[0m \u001b[1;33m=\u001b[0m \u001b[0mspacy\u001b[0m\u001b[1;33m.\u001b[0m\u001b[0mlang\u001b[0m\u001b[1;33m.\u001b[0m\u001b[0men\u001b[0m\u001b[1;33m.\u001b[0m\u001b[0mstop_words\u001b[0m\u001b[1;33m.\u001b[0m\u001b[0mSTOP_WORDS\u001b[0m\u001b[1;33m\u001b[0m\u001b[1;33m\u001b[0m\u001b[0m\n\u001b[1;32m----> 6\u001b[1;33m \u001b[0mstop_words\u001b[0m\u001b[1;33m.\u001b[0m\u001b[0mremove\u001b[0m\u001b[1;33m(\u001b[0m\u001b[1;34m\"alone\"\u001b[0m\u001b[1;33m,\u001b[0m\u001b[1;34m\"themselves\"\u001b[0m\u001b[1;33m)\u001b[0m\u001b[1;33m\u001b[0m\u001b[1;33m\u001b[0m\u001b[0m\n\u001b[0m\u001b[0;32m      7\u001b[0m \u001b[0mstop_words\u001b[0m\u001b[1;33m.\u001b[0m\u001b[0madd\u001b[0m\u001b[1;33m(\u001b[0m\u001b[1;34m\"client\"\u001b[0m\u001b[1;33m)\u001b[0m\u001b[1;33m\u001b[0m\u001b[1;33m\u001b[0m\u001b[0m\n\u001b[0;32m      8\u001b[0m \u001b[1;33m\u001b[0m\u001b[0m\n",
      "\u001b[1;31mTypeError\u001b[0m: remove() takes exactly one argument (2 given)"
     ]
    }
   ],
   "source": [
    "%time spacy_nlp = spacy.load('en_core_web_sm')\n",
    "\n",
    "#create list of punctuations and stopwords\n",
    "punctuations = string.punctuation\n",
    "stop_words = spacy.lang.en.stop_words.STOP_WORDS\n",
    "stop_words.remove(\"alone\",\"themselves\")\n",
    "stop_words.add(\"client\")\n",
    "\n",
    "def spacy_tokenizer(sentence):\n",
    " \n",
    "    #remove distracting single quotes\n",
    "    sentence = re.sub('\\'','',sentence)\n",
    "\n",
    "    #replace extra spaces with single space\n",
    "    sentence = re.sub(' +',' ',sentence)\n",
    "\n",
    "    #remove unwanted lines starting from special charcters\n",
    "    sentence = re.sub(r'\\n: \\'\\'.*','',sentence)\n",
    "    sentence = re.sub(r'\\n!.*','',sentence)\n",
    "    sentence = re.sub(r'^:\\'\\'.*','',sentence)\n",
    "    \n",
    "    #remove non-breaking new line characters\n",
    "    sentence = re.sub(r'\\n',' ',sentence)\n",
    "    \n",
    "    #remove punctuations\n",
    "    sentence = re.sub(r'[^\\w\\s]',' ',sentence)\n",
    "    \n",
    "    #creating token object\n",
    "    tokens = spacy_nlp(sentence)\n",
    "    \n",
    "    #lower, strip and lemmatize\n",
    "    tokens = [word.lemma_.lower().strip() if word.lemma_ != \"-PRON-\" else word.lower_ for word in tokens]\n",
    "    \n",
    "    #remove stopwords, and exclude words less than 2 characters\n",
    "    tokens = [word for word in tokens if word not in stop_words and word not in punctuations and len(word) > 2]\n",
    "    \n",
    "    #return tokens\n",
    "    return tokens"
   ]
  },
  {
   "cell_type": "code",
   "execution_count": 41,
   "metadata": {},
   "outputs": [
    {
     "name": "stdout",
     "output_type": "stream",
     "text": [
      "Wall time: 57.6 ms\n"
     ]
    }
   ],
   "source": [
    "from gensim.similarities import MatrixSimilarity\n",
    "\n",
    "%time schemes_index = MatrixSimilarity(schemes_lsi_corpus, num_features = schemes_lsi_corpus.num_terms)\n",
    "\n",
    "#Search similarity\n",
    "\n",
    "from operator import itemgetter\n",
    "\n",
    "counter = 0\n",
    "\n",
    "def search_similar_schemes(search_term):\n",
    "    global counter\n",
    "    query_bow = dictionary.doc2bow(spacy_tokenizer(search_term))\n",
    "    query_tfidf = schemes_tfidf_model[query_bow]\n",
    "    query_lsi = schemes_lsi_model[query_tfidf]\n",
    "\n",
    "    schemes_index.num_best = 50\n",
    "\n",
    "    schemes_list = schemes_index[query_lsi]\n",
    "    schemes_list.sort(key=itemgetter(1), reverse=True)\n",
    "    schemes_names = []\n",
    "\n",
    "    for j, scheme in enumerate(schemes_list):\n",
    "\n",
    "        schemes_names.append (\n",
    "            {\n",
    "                'Relevance': round((scheme[1] * 100),2),\n",
    "                'Scheme': df_schemes['Title'][scheme[0]],\n",
    "                'Description': df_schemes['Description'][scheme[0]],\n",
    "                'Agency': df_schemes['Agency'][scheme[0]],\n",
    "                'Image': df_schemes['Background Image Link'][scheme[0]],\n",
    "                'Link': df_schemes['Link'][scheme[0]]\n",
    "            }\n",
    "\n",
    "        )\n",
    "        if j == (schemes_index.num_best-1):\n",
    "            break\n",
    "\n",
    "    output = pd.DataFrame(schemes_names, columns=['Relevance','Scheme','Description', 'Agency', 'Image', 'Link'])\n",
    "    output = output[output['Relevance']>20]\n",
    "    jsonobject = output.to_json(orient = \"records\") #.encode('unicode-escape').decode('unicode-escape')\n",
    "    counter = counter + 1\n",
    "    jsonobject = { \n",
    "        \"number_requests_till_date\": counter,\n",
    "        \"data\": json.loads(jsonobject) \n",
    "    }\n",
    "    return jsonobject"
   ]
  },
  {
   "cell_type": "code",
   "execution_count": 42,
   "metadata": {
    "scrolled": true
   },
   "outputs": [
    {
     "data": {
      "text/plain": [
       "{'number_requests_till_date': 1,\n",
       " 'data': [{'Relevance': 71.65,\n",
       "   'Scheme': 'Children and youth services',\n",
       "   'Description': 'Children and youth services, particularly for at-risk youth and children. Includes suicide intervention, parent child mediation, handling beyond parental control, youth at risk services, befriender projects, workshops for probationers, services for children with special needs, and financial support for school pocket money and supplies.',\n",
       "   'Agency': 'NuLife Care & Counselling Services',\n",
       "   'Image': 'https://chidnast.sirv.com/SchemesSG/nulife.jpg',\n",
       "   'Link': 'https://nulife.com.sg/counselling/'},\n",
       "  {'Relevance': 57.21,\n",
       "   'Scheme': 'Various services',\n",
       "   'Description': 'Home and shelter for at-risk youth, providing alternative schooling, educational programmes, fostering services and other clinical interventions.',\n",
       "   'Agency': \"Boys' Town\",\n",
       "   'Image': 'https://chidnast.sirv.com/SchemesSG/boystown.jpg',\n",
       "   'Link': 'www.boystown.org.sg'},\n",
       "  {'Relevance': 54.29,\n",
       "   'Scheme': 'Tuition',\n",
       "   'Description': 'Free tuition to youth-at-risk',\n",
       "   'Agency': 'FaithActs',\n",
       "   'Image': 'https://chidnast.sirv.com/SchemesSG/faithacts.jpg',\n",
       "   'Link': 'https://www.faithacts.org.sg/services/children-and-youth/tuition'},\n",
       "  {'Relevance': 30.37,\n",
       "   'Scheme': 'Pregnancy Crisis and Support',\n",
       "   'Description': 'For emotional support, guidance, help and referrals that could facilitate a decision, whatever that decision may be.',\n",
       "   'Agency': 'Pregnancy Crisis and Support',\n",
       "   'Image': 'https://chidnast.sirv.com/SchemesSG/pcs.jpg',\n",
       "   'Link': 'https://www.pregnancycrisis.sg/Home'},\n",
       "  {'Relevance': 25.7,\n",
       "   'Scheme': 'Babes - A Helping Hand for Pregnant Teens',\n",
       "   'Description': 'Staff will discuss the various options available in order for client to make an informed decision. Provides support and linking with the appropriate resources, depending on what the situation requires.',\n",
       "   'Agency': 'Babes - A Helping Hand for Pregnant Teens',\n",
       "   'Image': 'https://chidnast.sirv.com/SchemesSG/babes.jpg',\n",
       "   'Link': 'https://www.babes.org.sg/we-are-here-for-you/our-services/'}]}"
      ]
     },
     "execution_count": 42,
     "metadata": {},
     "output_type": "execute_result"
    }
   ],
   "source": [
    "search_similar_schemes('pregnant teen youth-at-risk')"
   ]
  },
  {
   "cell_type": "code",
   "execution_count": 24,
   "metadata": {},
   "outputs": [],
   "source": []
  },
  {
   "cell_type": "code",
   "execution_count": 27,
   "metadata": {},
   "outputs": [],
   "source": []
  },
  {
   "cell_type": "code",
   "execution_count": null,
   "metadata": {},
   "outputs": [],
   "source": []
  }
 ],
 "metadata": {
  "kernelspec": {
   "display_name": "Python 3",
   "language": "python",
   "name": "python3"
  },
  "language_info": {
   "codemirror_mode": {
    "name": "ipython",
    "version": 3
   },
   "file_extension": ".py",
   "mimetype": "text/x-python",
   "name": "python",
   "nbconvert_exporter": "python",
   "pygments_lexer": "ipython3",
   "version": "3.8.2"
  }
 },
 "nbformat": 4,
 "nbformat_minor": 4
}
